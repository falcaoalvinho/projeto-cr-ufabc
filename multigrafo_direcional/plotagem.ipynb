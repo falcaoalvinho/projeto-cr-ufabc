{
 "cells": [
  {
   "cell_type": "markdown",
   "id": "457c012e",
   "metadata": {},
   "source": [
    "## Multigrafo Direcional (Completo)\n"
   ]
  },
  {
   "cell_type": "code",
   "execution_count": null,
   "id": "07d9f564",
   "metadata": {},
   "outputs": [],
   "source": [
    "# FETCH da API\n",
    "import requests\n",
    "\n",
    "url = input('INSIRA A URL DA API: ')\n",
    "response = requests.get(url)\n",
    "data = response.json()\n",
    "\n",
    "# Criação do grafo e plotagem dos dados\n",
    "import networkx as nx\n",
    "import matplotlib.pyplot as plt\n",
    "\n",
    "grafo_transferencias = nx.MultiDiGraph()\n",
    "\n",
    "if response.status_code == 200:\n",
    "    for transferencias in data['transferências']:\n",
    "        grafo_transferencias.add_edge(transferencias['de'], transferencias['para'])\n",
    "\n",
    "# Impressão dos vértices e arestas do grafo\n",
    "print(f'VÉRTICES DO GRAFO: {grafo_transferencias.number_of_nodes()}')\n",
    "print(f'ARESTAS DO GRAFO: {grafo_transferencias.number_of_edges()}')\n",
    "\n",
    "layout = nx.spring_layout(grafo_transferencias,k=0.3, scale=30) # Definição do layout usado no grafo\n",
    "\n",
    "# Desenho do grafo\n",
    "nx.draw(grafo_transferencias, layout, node_size=20, edge_color='gray', arrowsize=10)\n",
    "plt.show"
   ]
  }
 ],
 "metadata": {
  "kernelspec": {
   "display_name": "Python 3",
   "language": "python",
   "name": "python3"
  },
  "language_info": {
   "codemirror_mode": {
    "name": "ipython",
    "version": 3
   },
   "file_extension": ".py",
   "mimetype": "text/x-python",
   "name": "python",
   "nbconvert_exporter": "python",
   "pygments_lexer": "ipython3",
   "version": "3.13.4"
  }
 },
 "nbformat": 4,
 "nbformat_minor": 5
}
